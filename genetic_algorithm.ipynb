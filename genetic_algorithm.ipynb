{
 "cells": [
  {
   "cell_type": "code",
   "execution_count": null,
   "metadata": {},
   "outputs": [],
   "source": [
    "import random\n",
    "import numpy as np\n",
    "class Solution:\n",
    "    def __init__(self,populars,vector=None,n=0):\n",
    "        self.populars=populars\n",
    "        if not vector is None: self.vector=vector\n",
    "        else: self.vector=self.get_vector(n)\n",
    "        self.not_populars = [i for i in range(len(self.vector)) if self.vector[i]==0]\n",
    "    \n",
    "    @property\n",
    "    def Popular_size(self):\n",
    "        return len(self.populars)\n",
    "    \n",
    "    def get_vector(self,n):\n",
    "        vector=np.zeros(n)\n",
    "        for i in self.populars:\n",
    "            vector[i]=1\n",
    "        return vector\n",
    "\n",
    "    def in_edges(self,adj):\n",
    "        output=0\n",
    "        for i in self.not_populars:\n",
    "            adj_popular = [j for j in adj[i] if self.vector[j]==1]\n",
    "            output+=len(adj_popular)\n",
    "        return output\n",
    "    \n",
    "    def evaluate(self,adj):\n",
    "        in_edges=self.in_edges(adj)\n",
    "        if in_edges==0:\n",
    "            return self.Popular_size\n",
    "        return 0\n",
    "    \n",
    "    def mutate(self,adj,k):\n",
    "        populars={}\n",
    "        if self.Popular_size<k:\n",
    "            index=random.choice(range(len(self.vector)))\n",
    "            if self.vector[index] == 1 : populars= self.populars-{index}\n",
    "            else: populars = self.populars | {index}\n",
    "        else: \n",
    "            new_populars= list(self.populars)\n",
    "            for i in self.populars:\n",
    "                in_edges=[j for j in self.not_populars if i in adj[j]]\n",
    "                if not len(in_edges) > 0 :\n",
    "                    new_populars.remove(i)\n",
    "                    break\n",
    "            populars=set(new_populars)\n",
    "        return Solution(populars,n=len(self.vector))\n",
    "\n",
    "\n",
    "\n",
    "\n"
   ]
  },
  {
   "attachments": {},
   "cell_type": "markdown",
   "metadata": {},
   "source": [
    "### Crear una solución random"
   ]
  },
  {
   "cell_type": "code",
   "execution_count": null,
   "metadata": {},
   "outputs": [],
   "source": [
    "def generate_random_solution(all_indexes,vertex_total,k): \n",
    "        vector=np.zeros(vertex_total)\n",
    "        populars_total=random.randrange(1,k+1)\n",
    "        populars=set(random.sample(all_indexes,populars_total))\n",
    "        for i in populars:\n",
    "            vector[i]=1\n",
    "        return Solution(populars,vector)"
   ]
  },
  {
   "attachments": {},
   "cell_type": "markdown",
   "metadata": {},
   "source": [
    "### 1 - Crear la primera población"
   ]
  },
  {
   "cell_type": "code",
   "execution_count": null,
   "metadata": {},
   "outputs": [],
   "source": [
    "def initialize_population(pop_size,vertex_total,k):\n",
    "    population_set = []\n",
    "    all_indexes = [i for i in range(vertex_total) ]\n",
    "    for i in range(pop_size):\n",
    "        sol_i = generate_random_solution(all_indexes,vertex_total,k)\n",
    "        population_set.append(sol_i)\n",
    "        \n",
    "    return np.array(population_set)"
   ]
  },
  {
   "attachments": {},
   "cell_type": "markdown",
   "metadata": {},
   "source": [
    "### 2 - Evaluación"
   ]
  },
  {
   "cell_type": "code",
   "execution_count": null,
   "metadata": {},
   "outputs": [],
   "source": [
    "\n",
    "def fitness_eval(solution:Solution,adj):\n",
    "    return solution.evaluate(adj)\n",
    "                                     \n",
    "                                     "
   ]
  },
  {
   "cell_type": "code",
   "execution_count": null,
   "metadata": {},
   "outputs": [],
   "source": [
    "\n",
    "def get_all_fitnes(population_set, pop_size,adj):\n",
    "    fitnes_list = np.zeros(pop_size)\n",
    "\n",
    "    #Looping over all solutions computing the fitness for each solution\n",
    "    for i in  range(pop_size):\n",
    "        fitnes_list[i] = fitness_eval(population_set[i],adj)\n",
    "\n",
    "    return fitnes_list"
   ]
  },
  {
   "attachments": {},
   "cell_type": "markdown",
   "metadata": {},
   "source": [
    "### 3 - Selección"
   ]
  },
  {
   "attachments": {},
   "cell_type": "markdown",
   "metadata": {},
   "source": [
    "Crear dos listas de progenitores del tamaño de la población que indican que los progenitores en igual índice de ambas listas van a ser apareados."
   ]
  },
  {
   "cell_type": "code",
   "execution_count": null,
   "metadata": {},
   "outputs": [],
   "source": [
    "\n",
    "\n",
    "def progenitor_selection(population_set,fitnes_list,k):\n",
    "\n",
    "    #for each pair of solutions get which would be the size of popular group if they get merge\n",
    "    new_sizes={ i:[] for i in range(k+1)}\n",
    "    for i,solution1 in enumerate(population_set):\n",
    "        if i<len(population_set)-1:\n",
    "            for j,solution2 in enumerate(population_set[i+1:]):\n",
    "                total = len(solution1.populars | solution2.populars)\n",
    "                include_all=total<=k\n",
    "                p=fitnes_list[i]\n",
    "                q=fitnes_list[j]\n",
    "                if p > 0 and q > 0: \n",
    "                    total = len(solution1.populars | solution2.populars)\n",
    "                    if total <=k:\n",
    "                        new_sizes[total].append((i,j,include_all))\n",
    "                    else: new_sizes[k].append((i,j,include_all))\n",
    "                else: new_sizes[0].append((i,j,include_all))\n",
    "                     \n",
    "    progenitor_list_a = []\n",
    "    progenitor_list_b = []\n",
    "    include_all = []\n",
    "    for i in range(k,-1,-1):\n",
    "        if len(progenitor_list_a) == len(population_set): \n",
    "            break\n",
    "        for pair in new_sizes[i]:\n",
    "                if len(progenitor_list_a) == len(population_set):\n",
    "                    break\n",
    "                progenitor_list_a.append(population_set[pair[0]])\n",
    "                progenitor_list_b.append(population_set[pair[1]])\n",
    "                include_all.append(pair[2])\n",
    "                \n",
    "    return np.array([progenitor_list_a,progenitor_list_b,include_all])"
   ]
  },
  {
   "attachments": {},
   "cell_type": "markdown",
   "metadata": {},
   "source": [
    "### 4 - Variación"
   ]
  },
  {
   "cell_type": "code",
   "execution_count": null,
   "metadata": {},
   "outputs": [],
   "source": [
    "def mate_progenitors(prog_a, prog_b,include_all,k):\n",
    "    new_populars={}\n",
    "    if include_all: new_populars=prog_a.populars | prog_b.populars\n",
    "    else: new_populars = set(list(prog_a.populars | prog_b.populars)[0:k+1])\n",
    "    return Solution(new_populars,n=len(prog_a.vector))\n",
    "    \n",
    "    \n",
    "def mate_population(progenitor_list,k):\n",
    "    new_population_set = []\n",
    "    for i in range(progenitor_list.shape[1]):\n",
    "        prog_a, prog_b, include_all = progenitor_list[0][i], progenitor_list[1][i], progenitor_list[2][i]\n",
    "        offspring = mate_progenitors(prog_a, prog_b,include_all,k)\n",
    "        new_population_set.append(offspring)\n",
    "        \n",
    "    return new_population_set"
   ]
  },
  {
   "cell_type": "code",
   "execution_count": null,
   "metadata": {},
   "outputs": [],
   "source": [
    "def mutate_offspring(offspring:Solution, mutation_rate,adj,k):\n",
    "    return offspring.mutate(adj,k)\n",
    "    \n",
    "def mutate_population(new_population_set, mutation_rate,adj,k):\n",
    "    mutated_pop = []\n",
    "    for offspring in new_population_set:\n",
    "        mutated_pop.append(mutate_offspring(offspring, mutation_rate,adj,k))\n",
    "    return np.array(mutated_pop)"
   ]
  },
  {
   "attachments": {},
   "cell_type": "markdown",
   "metadata": {},
   "source": [
    "### 5 - Criterio de parada"
   ]
  },
  {
   "cell_type": "code",
   "execution_count": null,
   "metadata": {},
   "outputs": [],
   "source": [
    "def stop_criterion(t):\n",
    "    return t >= 10000 "
   ]
  },
  {
   "cell_type": "code",
   "execution_count": null,
   "metadata": {},
   "outputs": [],
   "source": [
    "def evolutionary_algorithm(adj,k,pop_size =100, mutation_rate = 0.3):  \n",
    "    populations = []\n",
    "    best_solution = [-1,-1,np.array([])] #[iteration, fitness, solution]\n",
    "    \n",
    "    populations.append(initialize_population(pop_size,adj.shape[0],k))\n",
    "    t = 0\n",
    "    \n",
    "    while not stop_criterion(t):\n",
    "        fitnes_list = get_all_fitnes(populations[t], pop_size,adj)\n",
    "        if t%100==0: print(t,  \"fitness_mean: \", fitnes_list.mean(), \"best_solution: \", best_solution)\n",
    "            \n",
    "        #Saving the best solution\n",
    "        current_max = fitnes_list.max()\n",
    "        if current_max > best_solution[1]:\n",
    "            best_solution[0] = t\n",
    "            best_solution[1] =current_max\n",
    "            best_solution[2] = np.array(populations[t])[current_max == fitnes_list][0] \n",
    "        \n",
    "            if current_max==k:\n",
    "                return best_solution\n",
    "\n",
    "        progenitor_list = progenitor_selection(populations[t],fitnes_list,k)\n",
    "        new_population_set = mate_population(progenitor_list,k)\n",
    "        mutated_pop = mutate_population(new_population_set, mutation_rate,adj,k)\n",
    "        t = t+1\n",
    "        \n",
    "        populations.append(mutated_pop)\n",
    "    \n",
    "    return best_solution\n",
    "\n"
   ]
  },
  {
   "attachments": {},
   "cell_type": "markdown",
   "metadata": {},
   "source": [
    "### Probando el algoritmo "
   ]
  },
  {
   "cell_type": "code",
   "execution_count": 16,
   "metadata": {},
   "outputs": [
    {
     "name": "stdout",
     "output_type": "stream",
     "text": [
      "0 fitness_mean:  0.14 best_solution:  [-1, -1, array([], dtype=float64)]\n",
      "0 1.0 [0. 1. 0. 0. 0. 0. 0.]\n",
      "0 fitness_mean:  0.2 best_solution:  [-1, -1, array([], dtype=float64)]\n",
      "0 2.0 [0. 1. 1. 0. 0. 0. 0.]\n",
      "0 fitness_mean:  0.22 best_solution:  [-1, -1, array([], dtype=float64)]\n",
      "1 3.0 [0. 1. 1. 0. 1. 0. 0.]\n",
      "0 fitness_mean:  0.18 best_solution:  [-1, -1, array([], dtype=float64)]\n",
      "3 4.0 [0. 1. 1. 0. 0. 1. 1.]\n",
      "0 fitness_mean:  0.4 best_solution:  [-1, -1, array([], dtype=float64)]\n",
      "0 5.0 [1. 1. 1. 1. 1. 0. 0.]\n",
      "0 fitness_mean:  0.38 best_solution:  [-1, -1, array([], dtype=float64)]\n",
      "100 fitness_mean:  0.0 best_solution:  [0, 5.0, <__main__.Solution object at 0x00000237AD398BD0>]\n",
      "200 fitness_mean:  0.0 best_solution:  [0, 5.0, <__main__.Solution object at 0x00000237AD398BD0>]\n",
      "300 fitness_mean:  0.0 best_solution:  [0, 5.0, <__main__.Solution object at 0x00000237AD398BD0>]\n",
      "400 fitness_mean:  0.0 best_solution:  [0, 5.0, <__main__.Solution object at 0x00000237AD398BD0>]\n",
      "500 fitness_mean:  0.2 best_solution:  [0, 5.0, <__main__.Solution object at 0x00000237AD398BD0>]\n",
      "600 fitness_mean:  0.16 best_solution:  [0, 5.0, <__main__.Solution object at 0x00000237AD398BD0>]\n",
      "700 fitness_mean:  0.72 best_solution:  [0, 5.0, <__main__.Solution object at 0x00000237AD398BD0>]\n",
      "800 fitness_mean:  0.7 best_solution:  [0, 5.0, <__main__.Solution object at 0x00000237AD398BD0>]\n",
      "900 fitness_mean:  0.0 best_solution:  [0, 5.0, <__main__.Solution object at 0x00000237AD398BD0>]\n",
      "1000 fitness_mean:  0.0 best_solution:  [0, 5.0, <__main__.Solution object at 0x00000237AD398BD0>]\n",
      "1100 fitness_mean:  1.16 best_solution:  [0, 5.0, <__main__.Solution object at 0x00000237AD398BD0>]\n",
      "1200 fitness_mean:  0.14 best_solution:  [0, 5.0, <__main__.Solution object at 0x00000237AD398BD0>]\n",
      "1300 fitness_mean:  0.0 best_solution:  [0, 5.0, <__main__.Solution object at 0x00000237AD398BD0>]\n",
      "1400 fitness_mean:  0.0 best_solution:  [0, 5.0, <__main__.Solution object at 0x00000237AD398BD0>]\n",
      "1500 fitness_mean:  0.0 best_solution:  [0, 5.0, <__main__.Solution object at 0x00000237AD398BD0>]\n",
      "1600 fitness_mean:  0.4 best_solution:  [0, 5.0, <__main__.Solution object at 0x00000237AD398BD0>]\n",
      "1700 fitness_mean:  0.0 best_solution:  [0, 5.0, <__main__.Solution object at 0x00000237AD398BD0>]\n",
      "1800 fitness_mean:  0.74 best_solution:  [0, 5.0, <__main__.Solution object at 0x00000237AD398BD0>]\n",
      "1900 fitness_mean:  0.08 best_solution:  [0, 5.0, <__main__.Solution object at 0x00000237AD398BD0>]\n",
      "2000 fitness_mean:  0.08 best_solution:  [0, 5.0, <__main__.Solution object at 0x00000237AD398BD0>]\n",
      "2100 fitness_mean:  0.0 best_solution:  [0, 5.0, <__main__.Solution object at 0x00000237AD398BD0>]\n",
      "2200 fitness_mean:  0.0 best_solution:  [0, 5.0, <__main__.Solution object at 0x00000237AD398BD0>]\n",
      "2300 fitness_mean:  0.0 best_solution:  [0, 5.0, <__main__.Solution object at 0x00000237AD398BD0>]\n",
      "2400 fitness_mean:  0.56 best_solution:  [0, 5.0, <__main__.Solution object at 0x00000237AD398BD0>]\n",
      "2500 fitness_mean:  0.7 best_solution:  [0, 5.0, <__main__.Solution object at 0x00000237AD398BD0>]\n",
      "2600 fitness_mean:  0.1 best_solution:  [0, 5.0, <__main__.Solution object at 0x00000237AD398BD0>]\n",
      "2700 fitness_mean:  0.0 best_solution:  [0, 5.0, <__main__.Solution object at 0x00000237AD398BD0>]\n",
      "2800 fitness_mean:  0.62 best_solution:  [0, 5.0, <__main__.Solution object at 0x00000237AD398BD0>]\n",
      "2900 fitness_mean:  0.8 best_solution:  [0, 5.0, <__main__.Solution object at 0x00000237AD398BD0>]\n",
      "3000 fitness_mean:  0.64 best_solution:  [0, 5.0, <__main__.Solution object at 0x00000237AD398BD0>]\n",
      "3100 fitness_mean:  0.62 best_solution:  [0, 5.0, <__main__.Solution object at 0x00000237AD398BD0>]\n",
      "3200 fitness_mean:  0.02 best_solution:  [0, 5.0, <__main__.Solution object at 0x00000237AD398BD0>]\n",
      "3300 fitness_mean:  0.54 best_solution:  [0, 5.0, <__main__.Solution object at 0x00000237AD398BD0>]\n",
      "3400 fitness_mean:  0.64 best_solution:  [0, 5.0, <__main__.Solution object at 0x00000237AD398BD0>]\n",
      "3500 fitness_mean:  0.1 best_solution:  [0, 5.0, <__main__.Solution object at 0x00000237AD398BD0>]\n",
      "3600 fitness_mean:  0.86 best_solution:  [0, 5.0, <__main__.Solution object at 0x00000237AD398BD0>]\n",
      "3700 fitness_mean:  0.0 best_solution:  [0, 5.0, <__main__.Solution object at 0x00000237AD398BD0>]\n",
      "3800 fitness_mean:  0.34 best_solution:  [0, 5.0, <__main__.Solution object at 0x00000237AD398BD0>]\n",
      "3900 fitness_mean:  0.48 best_solution:  [0, 5.0, <__main__.Solution object at 0x00000237AD398BD0>]\n",
      "4000 fitness_mean:  0.7 best_solution:  [0, 5.0, <__main__.Solution object at 0x00000237AD398BD0>]\n",
      "4100 fitness_mean:  0.0 best_solution:  [0, 5.0, <__main__.Solution object at 0x00000237AD398BD0>]\n",
      "4200 fitness_mean:  0.0 best_solution:  [0, 5.0, <__main__.Solution object at 0x00000237AD398BD0>]\n",
      "4300 fitness_mean:  0.98 best_solution:  [0, 5.0, <__main__.Solution object at 0x00000237AD398BD0>]\n",
      "4400 fitness_mean:  0.0 best_solution:  [0, 5.0, <__main__.Solution object at 0x00000237AD398BD0>]\n",
      "4500 fitness_mean:  0.0 best_solution:  [0, 5.0, <__main__.Solution object at 0x00000237AD398BD0>]\n",
      "4600 fitness_mean:  0.0 best_solution:  [0, 5.0, <__main__.Solution object at 0x00000237AD398BD0>]\n",
      "4700 fitness_mean:  1.46 best_solution:  [0, 5.0, <__main__.Solution object at 0x00000237AD398BD0>]\n",
      "4800 fitness_mean:  0.58 best_solution:  [0, 5.0, <__main__.Solution object at 0x00000237AD398BD0>]\n",
      "4900 fitness_mean:  0.0 best_solution:  [0, 5.0, <__main__.Solution object at 0x00000237AD398BD0>]\n",
      "5000 fitness_mean:  0.0 best_solution:  [0, 5.0, <__main__.Solution object at 0x00000237AD398BD0>]\n",
      "5100 fitness_mean:  0.0 best_solution:  [0, 5.0, <__main__.Solution object at 0x00000237AD398BD0>]\n",
      "5200 fitness_mean:  0.0 best_solution:  [0, 5.0, <__main__.Solution object at 0x00000237AD398BD0>]\n",
      "5300 fitness_mean:  0.08 best_solution:  [0, 5.0, <__main__.Solution object at 0x00000237AD398BD0>]\n",
      "5400 fitness_mean:  0.0 best_solution:  [0, 5.0, <__main__.Solution object at 0x00000237AD398BD0>]\n",
      "5500 fitness_mean:  0.78 best_solution:  [0, 5.0, <__main__.Solution object at 0x00000237AD398BD0>]\n",
      "5600 fitness_mean:  0.0 best_solution:  [0, 5.0, <__main__.Solution object at 0x00000237AD398BD0>]\n",
      "5700 fitness_mean:  0.24 best_solution:  [0, 5.0, <__main__.Solution object at 0x00000237AD398BD0>]\n",
      "5800 fitness_mean:  0.06 best_solution:  [0, 5.0, <__main__.Solution object at 0x00000237AD398BD0>]\n",
      "5900 fitness_mean:  0.1 best_solution:  [0, 5.0, <__main__.Solution object at 0x00000237AD398BD0>]\n",
      "6000 fitness_mean:  0.64 best_solution:  [0, 5.0, <__main__.Solution object at 0x00000237AD398BD0>]\n",
      "6100 fitness_mean:  0.0 best_solution:  [0, 5.0, <__main__.Solution object at 0x00000237AD398BD0>]\n",
      "6200 fitness_mean:  0.0 best_solution:  [0, 5.0, <__main__.Solution object at 0x00000237AD398BD0>]\n",
      "6300 fitness_mean:  1.32 best_solution:  [0, 5.0, <__main__.Solution object at 0x00000237AD398BD0>]\n",
      "6400 fitness_mean:  0.72 best_solution:  [0, 5.0, <__main__.Solution object at 0x00000237AD398BD0>]\n",
      "6500 fitness_mean:  0.92 best_solution:  [0, 5.0, <__main__.Solution object at 0x00000237AD398BD0>]\n",
      "6600 fitness_mean:  0.0 best_solution:  [0, 5.0, <__main__.Solution object at 0x00000237AD398BD0>]\n",
      "6700 fitness_mean:  0.0 best_solution:  [0, 5.0, <__main__.Solution object at 0x00000237AD398BD0>]\n",
      "6800 fitness_mean:  0.06 best_solution:  [0, 5.0, <__main__.Solution object at 0x00000237AD398BD0>]\n",
      "6900 fitness_mean:  0.0 best_solution:  [0, 5.0, <__main__.Solution object at 0x00000237AD398BD0>]\n",
      "7000 fitness_mean:  0.64 best_solution:  [0, 5.0, <__main__.Solution object at 0x00000237AD398BD0>]\n",
      "7100 fitness_mean:  0.0 best_solution:  [0, 5.0, <__main__.Solution object at 0x00000237AD398BD0>]\n",
      "7200 fitness_mean:  0.7 best_solution:  [0, 5.0, <__main__.Solution object at 0x00000237AD398BD0>]\n",
      "7300 fitness_mean:  0.6 best_solution:  [0, 5.0, <__main__.Solution object at 0x00000237AD398BD0>]\n",
      "7400 fitness_mean:  0.0 best_solution:  [0, 5.0, <__main__.Solution object at 0x00000237AD398BD0>]\n",
      "7500 fitness_mean:  1.14 best_solution:  [0, 5.0, <__main__.Solution object at 0x00000237AD398BD0>]\n",
      "7600 fitness_mean:  0.4 best_solution:  [0, 5.0, <__main__.Solution object at 0x00000237AD398BD0>]\n",
      "7700 fitness_mean:  0.36 best_solution:  [0, 5.0, <__main__.Solution object at 0x00000237AD398BD0>]\n",
      "7800 fitness_mean:  0.76 best_solution:  [0, 5.0, <__main__.Solution object at 0x00000237AD398BD0>]\n",
      "7900 fitness_mean:  0.1 best_solution:  [0, 5.0, <__main__.Solution object at 0x00000237AD398BD0>]\n",
      "8000 fitness_mean:  0.56 best_solution:  [0, 5.0, <__main__.Solution object at 0x00000237AD398BD0>]\n",
      "8100 fitness_mean:  0.64 best_solution:  [0, 5.0, <__main__.Solution object at 0x00000237AD398BD0>]\n",
      "8200 fitness_mean:  0.02 best_solution:  [0, 5.0, <__main__.Solution object at 0x00000237AD398BD0>]\n",
      "8300 fitness_mean:  0.08 best_solution:  [0, 5.0, <__main__.Solution object at 0x00000237AD398BD0>]\n",
      "8400 fitness_mean:  0.52 best_solution:  [0, 5.0, <__main__.Solution object at 0x00000237AD398BD0>]\n",
      "8500 fitness_mean:  0.0 best_solution:  [0, 5.0, <__main__.Solution object at 0x00000237AD398BD0>]\n",
      "8600 fitness_mean:  0.0 best_solution:  [0, 5.0, <__main__.Solution object at 0x00000237AD398BD0>]\n",
      "8700 fitness_mean:  0.72 best_solution:  [0, 5.0, <__main__.Solution object at 0x00000237AD398BD0>]\n",
      "8800 fitness_mean:  0.0 best_solution:  [0, 5.0, <__main__.Solution object at 0x00000237AD398BD0>]\n",
      "8900 fitness_mean:  0.0 best_solution:  [0, 5.0, <__main__.Solution object at 0x00000237AD398BD0>]\n",
      "9000 fitness_mean:  1.06 best_solution:  [0, 5.0, <__main__.Solution object at 0x00000237AD398BD0>]\n",
      "9100 fitness_mean:  0.52 best_solution:  [0, 5.0, <__main__.Solution object at 0x00000237AD398BD0>]\n",
      "9200 fitness_mean:  0.6 best_solution:  [0, 5.0, <__main__.Solution object at 0x00000237AD398BD0>]\n",
      "9300 fitness_mean:  0.3 best_solution:  [0, 5.0, <__main__.Solution object at 0x00000237AD398BD0>]\n",
      "9400 fitness_mean:  0.42 best_solution:  [0, 5.0, <__main__.Solution object at 0x00000237AD398BD0>]\n",
      "9500 fitness_mean:  0.98 best_solution:  [0, 5.0, <__main__.Solution object at 0x00000237AD398BD0>]\n",
      "9600 fitness_mean:  0.18 best_solution:  [0, 5.0, <__main__.Solution object at 0x00000237AD398BD0>]\n",
      "9700 fitness_mean:  0.0 best_solution:  [0, 5.0, <__main__.Solution object at 0x00000237AD398BD0>]\n",
      "9800 fitness_mean:  0.0 best_solution:  [0, 5.0, <__main__.Solution object at 0x00000237AD398BD0>]\n",
      "9900 fitness_mean:  0.84 best_solution:  [0, 5.0, <__main__.Solution object at 0x00000237AD398BD0>]\n",
      "0 5.0 [1. 1. 1. 1. 1. 0. 0.]\n"
     ]
    }
   ],
   "source": [
    "\n",
    "bad_opinions = np.array([[3],[3,5],[4],[0],[0,3],[6],[5]],dtype=object)\n",
    "for i in range(1,7):\n",
    "    t,max,group = evolutionary_algorithm(bad_opinions,i)\n",
    "    print(t,max,group.vector)"
   ]
  }
 ],
 "metadata": {
  "kernelspec": {
   "display_name": "Python 3",
   "language": "python",
   "name": "python3"
  },
  "language_info": {
   "codemirror_mode": {
    "name": "ipython",
    "version": 3
   },
   "file_extension": ".py",
   "mimetype": "text/x-python",
   "name": "python",
   "nbconvert_exporter": "python",
   "pygments_lexer": "ipython3",
   "version": "3.11.2"
  },
  "orig_nbformat": 4,
  "vscode": {
   "interpreter": {
    "hash": "9e7e89d086fbe206dd00d0c8be4c7451c6c7021dee9600074f19d5094c31f982"
   }
  }
 },
 "nbformat": 4,
 "nbformat_minor": 2
}
