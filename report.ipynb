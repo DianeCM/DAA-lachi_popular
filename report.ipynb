{
 "cells": [
  {
   "attachments": {},
   "cell_type": "markdown",
   "metadata": {},
   "source": [
    "### Lashi el Popular\n",
    "Lashi ya casi se gradúa y quiere ser popular, para eso es que escogió esta carrera. Planea ser popular creando un grupo solo de gente popular, así el también será popular. En el aula hay varias opiniones de quien no es **\"cool\"**, por ejemplo: Karel puede pensar que Lashi no es **\"cool\"** o simplemente no pensar nada, a su vez Lashi puede tener sus propias opiniones.\n",
    "\n",
    "Como los populares no pueden ser muchos, Lashi tiene que darse a la tarea de crear **el mayor grupo posible de estudiantes populares**, no mayores que un entero positivo $k$, que cumpla que: nadie piensa que alguien del grupo de los populares no es **\"cool\"**, a no ser que sea otro popular."
   ]
  },
  {
   "attachments": {},
   "cell_type": "markdown",
   "metadata": {},
   "source": [
    "### Análisis\n",
    "En otras palabras, lo que se pide en el ejercicio es encontrar un **grupo maximal de tamaño menor o igual que $k$** en el que **todos** los estudiantes fuera del grupo tengan opinión **neutral** hacia **todos** los que están dentro."
   ]
  },
  {
   "attachments": {},
   "cell_type": "markdown",
   "metadata": {},
   "source": [
    "### Modelación\n",
    "\n",
    "El problema se puede modelar como un grafo $G = (V, E)$ en el que cada nodo representa un estudiante y se cumple que:\n",
    "\n",
    " $(u,v) \\in E \\Longleftrightarrow $ el estudiante que representa el nodo $u$  tiene opinión neutra sobre el estudiante que representa el nodo $v$."
   ]
  },
  {
   "attachments": {},
   "cell_type": "markdown",
   "metadata": {},
   "source": [
    "### Conjunto k-dominante\n",
    "Sea k un entero positivo. Un subconjunto de vértices $D$ de un grafo $G = (V, E)$ es un conjunto k-dominante perfecto de $G$ si cada vértice $v$ de $G$, que no está en $D$, es adyacente a exactamente k vértices de $D$. La cardinalidad mínima de un conjunto k-dominante perfecto de $G$ es el número de k-dominación perfecta γkp(G). En el artículo \n",
    "[\"Perfect k-domination in graphs\"](https://ajc.maths.uq.edu.au/pdf/48/ajc_v48_p175.pdf) se demuestra que el problema de encontrar el menor conjunto k-dominante perfecto es NP-completo."
   ]
  },
  {
   "attachments": {},
   "cell_type": "markdown",
   "metadata": {},
   "source": [
    "### Relación entre el problema Lashi el Popular y conjunto k-dominante \n",
    "\n",
    "Encontrar un conjunto p-dominante perfecto de tamaño p en el problema inicial representa precisamente encontrar un grupo de tamaño p en el que todos los estudiantes fuera del grupo tienen opinión neutra sobre los p que están dentro.\n",
    "\n",
    "Luego, este problema planteado en términos de conjunto dominante se puede interpretar como obtener el conjunto p-dominate tal que:\n",
    "\n",
    "$\\forall q ~,~ p < q \\leq k$ no existe conjunto p-dominante en el grafo.\n",
    "\n",
    "Por tanto, el problema de decisión asociado consiste en determinar dado un valor $p$ si existe un conjunto p-dominante de tamaño p.\n",
    "Dado que este también consituye el problema de dicisión asociado a encontrar el menor conjunto k-dominante perfecto, entonces el problema Lashi el popular también es NP-completo."
   ]
  },
  {
   "attachments": {},
   "cell_type": "markdown",
   "metadata": {},
   "source": [
    "### Primera Solución (Fuerza Bruta)\n",
    "La primera propuesta consiste en encontrar el espacio de soluciones válidas para el problema:\n",
    "* Sea $u,v \\in V(G)$ tal que $u \\rightarrow v \\in E(G)$ que representa **$u$ piensa que $v$ no es cool**, si $v \\in P$ donde $P$ es el conjunto popular entonces $u \\in P$ también, ya que tiene una mala opinión de $v$ y por ende no puede quedar externo al grupo.  \n",
    "\n",
    "Realizando este proceso para todos los vértices del grafo, se obtienen todos los conjuntos maximales más pequeños posibles en el que cada uno de los vértices del grafo es partícipe. Para ello se realiza el reverso del grafo tal que por cada vértice se obtenga quién tiene mala opinión suya."
   ]
  },
  {
   "cell_type": "code",
   "execution_count": 1,
   "metadata": {},
   "outputs": [],
   "source": [
    "def create_reversed(bad_opinions:list[list[int]]):\n",
    "    rvsd = [[] for i in bad_opinions]\n",
    "    for i,bad_opinion in enumerate(bad_opinions):\n",
    "        for value in bad_opinion:\n",
    "            rvsd[value].append(i)\n",
    "    return rvsd"
   ]
  },
  {
   "cell_type": "code",
   "execution_count": 2,
   "metadata": {},
   "outputs": [],
   "source": [
    "def print_graph(graph:list[list[int]]):\n",
    "    for i,value in enumerate(graph):\n",
    "        print(f'{i} --> {value}')"
   ]
  },
  {
   "cell_type": "code",
   "execution_count": 3,
   "metadata": {},
   "outputs": [
    {
     "name": "stdout",
     "output_type": "stream",
     "text": [
      "Bad Opinion Graph\n",
      "0 --> [3]\n",
      "1 --> [3, 5]\n",
      "2 --> [4]\n",
      "3 --> [0]\n",
      "4 --> [0, 3]\n",
      "5 --> [6]\n",
      "6 --> [5]\n",
      "\n",
      "Bad Opinion Reversed Graph\n",
      "0 --> [3, 4]\n",
      "1 --> []\n",
      "2 --> []\n",
      "3 --> [0, 1, 4]\n",
      "4 --> [2]\n",
      "5 --> [1, 6]\n",
      "6 --> [5]\n"
     ]
    }
   ],
   "source": [
    "bad_opinions = [[3],[3,5],[4],[0],[0,3],[6],[5]]\n",
    "print('Bad Opinion Graph')\n",
    "print_graph(bad_opinions)\n",
    "print()\n",
    "reversed = create_reversed(bad_opinions)\n",
    "print('Bad Opinion Reversed Graph')\n",
    "print_graph(reversed)"
   ]
  },
  {
   "attachments": {},
   "cell_type": "markdown",
   "metadata": {},
   "source": [
    "El código anterior presenta complejidad temporal $O(V * E)$ ya que por cada vértice se analiza su lista de adyacencia. Posteriormente, se realiza un DFS por cada vértice del grafo para generar grupos populares maximales más pequeños, siendo su complejidad temporal $O(V^2 * E)$."
   ]
  },
  {
   "cell_type": "code",
   "execution_count": 4,
   "metadata": {},
   "outputs": [],
   "source": [
    "def solutions_search(reversed:list[list[int]]):\n",
    "    solutions_set:list[set] = []\n",
    "    for i in range(len(reversed)):\n",
    "        visited = [False for i in reversed]\n",
    "        solution = []\n",
    "        dfs_visited(i, reversed, visited, solution)\n",
    "        if set(solution) not in solutions_set: solutions_set.append(set(solution))\n",
    "    return solutions_set\n",
    "\n",
    "def dfs_visited(i:int, reversed:list[list[int]], visited:list[bool], solution:list[int]):\n",
    "    solution.append(i)\n",
    "    visited[i] = True\n",
    "    for adj in reversed[i]:\n",
    "        if not visited[adj]:\n",
    "            dfs_visited(adj, reversed, visited, solution)"
   ]
  },
  {
   "cell_type": "code",
   "execution_count": 5,
   "metadata": {},
   "outputs": [
    {
     "name": "stdout",
     "output_type": "stream",
     "text": [
      "[{0, 1, 2, 3, 4}, {1}, {2}, {2, 4}, {1, 5, 6}]\n"
     ]
    }
   ],
   "source": [
    "print(solutions_search(create_reversed(bad_opinions)))"
   ]
  },
  {
   "attachments": {},
   "cell_type": "markdown",
   "metadata": {},
   "source": [
    "Para la solución se parte, se que toda solución posible en este problema es un conjunto maximal en cuanto a mala opinión (ya que nadie de afuera tiene mala opinión de los de adentro, si hubiese uno entonces el DFS lo hubiese agregado al grupo y caería en contradicción de que se tenía un grupo maximal) o es una mezcla entre grupos maximales. Notar que si dos grupos maximales se mezclan, se mantiene la invariante, es decir el grupo resultante sigue siendo maximal."
   ]
  },
  {
   "attachments": {},
   "cell_type": "markdown",
   "metadata": {},
   "source": [
    "![Ejemplo de Grafo](graph.png)"
   ]
  },
  {
   "attachments": {},
   "cell_type": "markdown",
   "metadata": {},
   "source": [
    "En la imagen anterior los grupos serían: $P = [\\{1\\}, \\{2,6,3,1\\}, \\{3,1\\}, \\{4,5,6,3,1\\},\\{5,6,3,1\\}, \\{6\\}]$  \n",
    "Una mezcla entre dos grupos cualquiera seguirá siendo maximal en cuanto a opiniones:\n",
    "* uno es subconjunto del otro, en cuyo caso el mayor abarca las opiniones que pudieron surgir hacia un miembro nuevo;\n",
    "* son completamente disjuntos, en cuyo caso la unión de los nuevos miembros no afectará las opiniones ya que ambos recogían la mayor opinión negativa de sus respectivos miembros;\n",
    "* intersección no es vacía, es decir, tienen miembros en común, y la unión de nuevos miembros también recoge la mayor opinión negativa de los miembros que no están en la intersección, ya que los de la intersección son maximales entre sí.  \n",
    "Ejemplo: $\\{1\\} + \\{6\\} = \\{1,6\\}$ formada por la mezcla de grupos maximales más pequeños.  "
   ]
  },
  {
   "attachments": {},
   "cell_type": "markdown",
   "metadata": {},
   "source": [
    "Finalmente, se realiza un solución **backtrack** en la que se mezclan grupos y se guarda el mayor o uno de los mayores siempre y cuando sea menor o igual que $k$ de modo que se maximiza el resultado hasta llegar a $k$ de ser posible."
   ]
  },
  {
   "cell_type": "code",
   "execution_count": 6,
   "metadata": {},
   "outputs": [],
   "source": [
    "def solve(solutions:list[set[int]], k:int):\n",
    "    return solve_backtrack(solutions, k, 0, set(), set())\n",
    "\n",
    "def solve_backtrack(solutions:list[set[int]], k:int, index:int, solution:set, max_temp:set):\n",
    "    if len(solution) == k: return solution\n",
    "    if index >= len(solutions): return solution\n",
    "    \n",
    "    inter = solution.intersection(solutions[index])\n",
    "    curr = solution.union(solutions[index])\n",
    "    if len(curr) <= k:\n",
    "        solution = solve_backtrack(solutions, k, index+1, curr, max_temp) \n",
    "        if len(solution) > len(max_temp): max_temp = solution.copy()\n",
    "        if len(solution) == k: return solution\n",
    "        \n",
    "        curr = curr.difference(solutions[index]).union(inter)\n",
    "        solution = solve_backtrack(solutions, k, index+1, curr, max_temp)\n",
    "        if len(solution) > len(max_temp): max_temp = solution.copy()\n",
    "        if len(solution) == k: return solution \n",
    "    else:\n",
    "        solution = solve_backtrack(solutions, k, index+1, solution, max_temp)\n",
    "        if len(solution) > len(max_temp): max_temp = solution.copy() \n",
    "        if len(solution) == k: return solution\n",
    "    \n",
    "    return max_temp      "
   ]
  },
  {
   "attachments": {},
   "cell_type": "markdown",
   "metadata": {},
   "source": [
    "Al ser un backtrack por fuerza bruta, su complejidad temporal es $O(2^n)$, lo cual es extremadamente costoso para grafos con numerosas cantidades de vértices."
   ]
  },
  {
   "cell_type": "code",
   "execution_count": 7,
   "metadata": {},
   "outputs": [],
   "source": [
    "def solution(bad_opinions:list[list[int]], k:int):\n",
    "    rvsd = create_reversed(bad_opinions)\n",
    "    solutions_set = solutions_search(rvsd)\n",
    "    valid_solutions = []\n",
    "    for sols in solutions_set:\n",
    "        if len(sols) == k: return sols\n",
    "        elif len(sols) < k: valid_solutions.append(sols)\n",
    "    if len(valid_solutions) > 0: return solve(valid_solutions, k)\n",
    "    return \"Not Valid Solution\""
   ]
  },
  {
   "cell_type": "code",
   "execution_count": 9,
   "metadata": {},
   "outputs": [
    {
     "name": "stdout",
     "output_type": "stream",
     "text": [
      "k=1 {1}\n",
      "k=2 {2, 4}\n",
      "k=3 {1, 5, 6}\n",
      "k=4 {1, 2, 5, 6}\n",
      "k=5 {0, 1, 2, 3, 4}\n",
      "k=6 {0, 1, 2, 3, 4}\n",
      "k=7 {0, 1, 2, 3, 4, 5, 6}\n"
     ]
    }
   ],
   "source": [
    "bad_opinions = [[3],[3,5],[4],[0],[0,3],[6],[5]]\n",
    "print('k=1', solution(bad_opinions,1))\n",
    "print('k=2', solution(bad_opinions,2))\n",
    "print('k=3', solution(bad_opinions,3))\n",
    "print('k=4', solution(bad_opinions,4))\n",
    "print('k=5', solution(bad_opinions,5))\n",
    "print('k=6', solution(bad_opinions,6))\n",
    "print('k=7', solution(bad_opinions,7))"
   ]
  },
  {
   "attachments": {},
   "cell_type": "markdown",
   "metadata": {},
   "source": [
    "Notar que para el caso de $k = 6$ no es posile encontrar un grupo tal que el que quede afuera no tenga opinión negativa del resto, por lo que se encontró uno de los grupos (lo mayor posible) con tamaño cercano a $k$."
   ]
  }
 ],
 "metadata": {
  "kernelspec": {
   "display_name": "Python 3",
   "language": "python",
   "name": "python3"
  },
  "language_info": {
   "codemirror_mode": {
    "name": "ipython",
    "version": 3
   },
   "file_extension": ".py",
   "mimetype": "text/x-python",
   "name": "python",
   "nbconvert_exporter": "python",
   "pygments_lexer": "ipython3",
   "version": "3.11.2"
  },
  "orig_nbformat": 4,
  "vscode": {
   "interpreter": {
    "hash": "9e7e89d086fbe206dd00d0c8be4c7451c6c7021dee9600074f19d5094c31f982"
   }
  }
 },
 "nbformat": 4,
 "nbformat_minor": 2
}
