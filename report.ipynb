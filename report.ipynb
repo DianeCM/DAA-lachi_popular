{
 "cells": [
  {
   "attachments": {},
   "cell_type": "markdown",
   "metadata": {},
   "source": [
    "### Lashi el Popular\n",
    "Lashi ya casi se gradúa y quiere ser popular, para eso es que escogió esta carrera. Planea ser popular creando un grupo solo de gente popular, así el también será popular. En el aula hay varias opiniones de quien no es **\"cool\"**, por ejemplo: Karel puede pensar que Lashi no es **\"cool\"** o simplemente no pensar nada, a su vez Lashi puede tener sus propias opiniones.\n",
    "\n",
    "Como los populares no pueden ser muchos, Lashi tiene que darse a la tarea de crear **el mayor grupo posible de estudiantes populares**, no mayores que un entero positivo $k$, que cumpla que: nadie piensa que alguien del grupo de los populares no es **\"cool\"**, a no ser que sea otro popular."
   ]
  },
  {
   "attachments": {},
   "cell_type": "markdown",
   "metadata": {},
   "source": [
    "### Análisis\n",
    "En otras palabras, lo que se pide en el ejercicio es encontrar un **grupo maximal de tamaño menor o igual que $k$** en el que **todos** los externos al grupo tengan opinión **neutral** hacia **todos** los del grupo."
   ]
  },
  {
   "cell_type": "code",
   "execution_count": null,
   "metadata": {},
   "outputs": [],
   "source": []
  },
  {
   "cell_type": "code",
   "execution_count": null,
   "metadata": {},
   "outputs": [],
   "source": []
  }
 ],
 "metadata": {
  "language_info": {
   "name": "python"
  },
  "orig_nbformat": 4
 },
 "nbformat": 4,
 "nbformat_minor": 2
}
