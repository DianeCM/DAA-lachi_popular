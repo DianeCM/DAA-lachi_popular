{
 "cells": [
  {
   "cell_type": "code",
   "execution_count": 3,
   "metadata": {},
   "outputs": [],
   "source": [
    "import random\n",
    "import numpy as np\n",
    "class Solution:\n",
    "    def __init__(self,vector,populars):\n",
    "        self.vector=vector\n",
    "        self.populars=populars\n",
    "        self.not_populars = [i for i in range(len(vector)) if i==0]\n",
    "        self.populars_total=len(self.populars)\n",
    "    \n",
    "    def mut(self):\n",
    "        index= random.randrange(len(self.vector))\n",
    "        vector=[i for i in self.vector]\n",
    "        vector[index]=1-self.vector[index]\n",
    "        return Solution(vector)\n",
    "    \n",
    "    def evaluate(self,adj,k):\n",
    "        output=0\n",
    "        #Contando la cantidad de aristas del grupo de no populares al grupo de populares\n",
    "        for i in self.not_populars:\n",
    "            adj_popular = [j for j in adj[i][:] if self.vector[j]==1]\n",
    "            output+=len(adj_popular)\n",
    "        return output\n",
    "\n",
    "    def evaluate_1(self,adj,k):\n",
    "        output=0\n",
    "        #Contando la cantidad de personas en  el grupo de no populares a los cuales los odia al menos alguien del grupo de no populares  \n",
    "        for i in self.populars:\n",
    "            for j in adj[:][i]:\n",
    "                if self.vector[j]==1:\n",
    "                    output+=1\n",
    "                    break\n",
    "        return output"
   ]
  },
  {
   "attachments": {},
   "cell_type": "markdown",
   "metadata": {},
   "source": [
    "### Crear una solución random"
   ]
  },
  {
   "cell_type": "code",
   "execution_count": 28,
   "metadata": {},
   "outputs": [
    {
     "data": {
      "text/plain": [
       "[2, 5, 6]"
      ]
     },
     "execution_count": 28,
     "metadata": {},
     "output_type": "execute_result"
    }
   ],
   "source": [
    "def generate_random_solution(all_indexes,vertex_total,k): # las soluciones de la poblacion inicial las genero con menos de k+1 personas en el grupo de los populares?\n",
    "    vector=np.zeros(vertex_total)\n",
    "    populars_total=random.randrange(k+1)\n",
    "    populars=random.sample(all_indexes,populars_total)\n",
    "    for i in range(populars):\n",
    "        vector[i]=1\n",
    "    return Solution(vector,populars)"
   ]
  },
  {
   "attachments": {},
   "cell_type": "markdown",
   "metadata": {},
   "source": [
    "### 1 - Crear la primera población"
   ]
  },
  {
   "cell_type": "code",
   "execution_count": 29,
   "metadata": {},
   "outputs": [],
   "source": [
    "def initialize_population(pop_size,vertex_total,k):\n",
    "    population_set = []\n",
    "    all_indexes = [i for i in range(vertex_total) ]\n",
    "    for i in range(pop_size):\n",
    "        sol_i = generate_random_solution(all_indexes,vertex_total,k)\n",
    "        population_set.append(sol_i)\n",
    "        \n",
    "    return np.array(population_set)"
   ]
  },
  {
   "attachments": {},
   "cell_type": "markdown",
   "metadata": {},
   "source": [
    "### 2 - Evaluación"
   ]
  },
  {
   "cell_type": "code",
   "execution_count": null,
   "metadata": {},
   "outputs": [],
   "source": [
    "def fitness_eval(solution:Solution):\n",
    "    return solution.populars_total\n",
    "                                     "
   ]
  },
  {
   "cell_type": "code",
   "execution_count": null,
   "metadata": {},
   "outputs": [],
   "source": [
    "def get_all_fitnes(population_set, pop_size):\n",
    "    fitnes_list = np.zeros(pop_size)\n",
    "\n",
    "    #Looping over all solutions computing the fitness for each solution\n",
    "    for i in  range(pop_size):\n",
    "        fitnes_list[i] = fitness_eval(population_set[i])\n",
    "\n",
    "    return fitnes_list"
   ]
  },
  {
   "attachments": {},
   "cell_type": "markdown",
   "metadata": {},
   "source": [
    "### 3 - Selección"
   ]
  },
  {
   "attachments": {},
   "cell_type": "markdown",
   "metadata": {},
   "source": [
    "Crear dos listas de progenitores del tamaño de la población que indican que los progenitores en igual índice de ambas listas van a ser apareados."
   ]
  },
  {
   "cell_type": "code",
   "execution_count": null,
   "metadata": {},
   "outputs": [],
   "source": [
    "def progenitor_selection(population_set,fitnes_list):\n",
    "    #TODO: Your code here!\n",
    "    \n",
    "    progenitor_list_a = None #TODO: Your code here!\n",
    "    progenitor_list_b = None #TODO: Your code here!\n",
    "    \n",
    "    return np.array([progenitor_list_a,progenitor_list_b])"
   ]
  },
  {
   "attachments": {},
   "cell_type": "markdown",
   "metadata": {},
   "source": [
    "### 4 - Variación"
   ]
  },
  {
   "cell_type": "code",
   "execution_count": null,
   "metadata": {},
   "outputs": [],
   "source": [
    "def mate_progenitors(prog_a, prog_b):\n",
    "    #TODO: Your code here!\n",
    "    pass\n",
    "    \n",
    "def mate_population(progenitor_list):\n",
    "    new_population_set = []\n",
    "    for i in range(progenitor_list.shape[1]):\n",
    "        prog_a, prog_b = progenitor_list[0][i], progenitor_list[1][i]\n",
    "        offspring = mate_progenitors(prog_a, prog_b)\n",
    "        new_population_set.append(offspring)\n",
    "        \n",
    "    return new_population_set"
   ]
  },
  {
   "cell_type": "code",
   "execution_count": null,
   "metadata": {},
   "outputs": [],
   "source": [
    "def mutate_offspring(offspring, mutation_rate):\n",
    "    #TODO: Your code here!\n",
    "    return None\n",
    "    \n",
    "def mutate_population(new_population_set, mutation_rate):\n",
    "    mutated_pop = []\n",
    "    for offspring in new_population_set:\n",
    "        mutated_pop.append(mutate_offspring(offspring, mutation_rate))\n",
    "    return np.array(mutated_pop)"
   ]
  },
  {
   "attachments": {},
   "cell_type": "markdown",
   "metadata": {},
   "source": [
    "### 5 - Criterio de parada"
   ]
  },
  {
   "cell_type": "code",
   "execution_count": null,
   "metadata": {},
   "outputs": [],
   "source": [
    "def stop_criterion(t):\n",
    "    return t >= 10000 "
   ]
  },
  {
   "cell_type": "code",
   "execution_count": null,
   "metadata": {},
   "outputs": [],
   "source": [
    "def evolutionary_algorithm(adj,k,pop_size = 100, mutation_rate = 0.3):  \n",
    "    populations = []\n",
    "    best_solution = [-1,np.inf,np.array([])] #[iteration, fitness, solution]\n",
    "    \n",
    "    populations.append(initialize_population(pop_size))\n",
    "    t = 0\n",
    "    \n",
    "    while not stop_criterion(t):\n",
    "        fitnes_list = get_all_fitnes(populations[t], pop_size)\n",
    "        if t%100==0: print(t,  \"fitness_mean: \", fitnes_list.mean(), \"best_solution: \", best_solution)\n",
    "            \n",
    "        #Saving the best solution\n",
    "        if fitnes_list.min() < best_solution[1]:\n",
    "            best_solution[0] = t\n",
    "            best_solution[1] = fitnes_list.min()\n",
    "            best_solution[2] = np.array(populations[t])[fitnes_list.min() == fitnes_list]\n",
    "    \n",
    "        progenitor_list = progenitor_selection(populations[t],fitnes_list)\n",
    "        new_population_set = mate_population(progenitor_list)\n",
    "        mutated_pop = mutate_population(new_population_set, mutation_rate)\n",
    "        t = t+1\n",
    "        \n",
    "        populations.append(mutated_pop)\n",
    "    \n",
    "    return best_solution\n",
    "\n",
    "\n"
   ]
  }
 ],
 "metadata": {
  "kernelspec": {
   "display_name": "Python 3",
   "language": "python",
   "name": "python3"
  },
  "language_info": {
   "codemirror_mode": {
    "name": "ipython",
    "version": 3
   },
   "file_extension": ".py",
   "mimetype": "text/x-python",
   "name": "python",
   "nbconvert_exporter": "python",
   "pygments_lexer": "ipython3",
   "version": "3.11.2"
  },
  "orig_nbformat": 4,
  "vscode": {
   "interpreter": {
    "hash": "9e7e89d086fbe206dd00d0c8be4c7451c6c7021dee9600074f19d5094c31f982"
   }
  }
 },
 "nbformat": 4,
 "nbformat_minor": 2
}
